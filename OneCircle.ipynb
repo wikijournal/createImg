{
 "cells": [
  {
   "cell_type": "markdown",
   "id": "ce8d3977-012e-46f3-971d-111bd76750aa",
   "metadata": {},
   "source": [
    "## Генерация одного кружка\n",
    "Генерируем один красный круг разного размера"
   ]
  },
  {
   "cell_type": "code",
   "execution_count": 4,
   "id": "e84e2927-7d0c-4932-a145-be364dcb16ba",
   "metadata": {},
   "outputs": [
    {
     "name": "stdout",
     "output_type": "stream",
     "text": [
      "Images have been generated!\n"
     ]
    }
   ],
   "source": [
    "from PIL import Image, ImageDraw\n",
    "import random\n",
    "import os\n",
    "\n",
    "def generate_images(num_images):\n",
    "    # Размер изображения\n",
    "    img_size = (300, 300)\n",
    "\n",
    "    # Путь для сохранения изображений\n",
    "    save_path = 'img/circles/'\n",
    "\n",
    "    # Проверяем, существует ли папка, если нет, создаем её\n",
    "    if not os.path.exists(save_path):\n",
    "        os.makedirs(save_path)\n",
    "\n",
    "    for i in range(num_images):\n",
    "        # Создаем белое изображение\n",
    "        img = Image.new('RGB', img_size, color='white')\n",
    "        draw = ImageDraw.Draw(img)\n",
    "\n",
    "        # Генерируем случайный размер кружочка\n",
    "        circle_radius = random.randint(10, 50)\n",
    "\n",
    "        # Генерируем случайные координаты для центра кружочка\n",
    "        x = random.randint(circle_radius, img_size[0] - circle_radius)\n",
    "        y = random.randint(circle_radius, img_size[1] - circle_radius)\n",
    "\n",
    "        # Рисуем красный кружочек\n",
    "        draw.ellipse((x - circle_radius, y - circle_radius, x + circle_radius, y + circle_radius), fill='red')\n",
    "\n",
    "        # Сохраняем изображение\n",
    "        img.save(f'{save_path}circle_image_{i + 1}.png')\n",
    "\n",
    "# Генерируем 70 картинок\n",
    "generate_images(70)\n",
    "print(\"Images have been generated!\")"
   ]
  },
  {
   "cell_type": "code",
   "execution_count": null,
   "id": "4816c85a-2357-40a4-9dc9-797cd7f7c1cc",
   "metadata": {},
   "outputs": [],
   "source": []
  }
 ],
 "metadata": {
  "kernelspec": {
   "display_name": "Python 3 (ipykernel)",
   "language": "python",
   "name": "python3"
  },
  "language_info": {
   "codemirror_mode": {
    "name": "ipython",
    "version": 3
   },
   "file_extension": ".py",
   "mimetype": "text/x-python",
   "name": "python",
   "nbconvert_exporter": "python",
   "pygments_lexer": "ipython3",
   "version": "3.12.5"
  }
 },
 "nbformat": 4,
 "nbformat_minor": 5
}
